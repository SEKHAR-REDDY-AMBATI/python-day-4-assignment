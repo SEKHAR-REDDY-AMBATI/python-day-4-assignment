{
  "nbformat": 4,
  "nbformat_minor": 0,
  "metadata": {
    "colab": {
      "name": "python day 4assignment.ipynb",
      "provenance": [],
      "collapsed_sections": []
    },
    "kernelspec": {
      "name": "python3",
      "display_name": "Python 3"
    },
    "language_info": {
      "name": "python"
    }
  },
  "cells": [
    {
      "cell_type": "code",
      "metadata": {
        "colab": {
          "base_uri": "https://localhost:8080/",
          "height": 0
        },
        "id": "AUdUMrAIuWEt",
        "outputId": "aeca7ef4-75ac-43a3-9a77-16261f53ec15"
      },
      "source": [
        "#all altitude in feet\n",
        "\n",
        "alt_req= int(input(\"enter the valuue of a altitude--->  \"))\n",
        "\n",
        "if alt_req<1000:\n",
        "     print(\"safe to land ,please land the plane correctly and safely\")\n",
        "elif  alt_req<1000 and alt_req>5000:\n",
        "       print(\"bring down to 1000feet\")\n",
        "else:\n",
        "      print(\"turn around\")\n",
        "                  "
      ],
      "execution_count": 1,
      "outputs": [
        {
          "output_type": "stream",
          "text": [
            "enter the valuue of a altitude--->  50\n",
            "safe to land ,please land the plane correctly and safely\n"
          ],
          "name": "stdout"
        }
      ]
    },
    {
      "cell_type": "code",
      "metadata": {
        "id": "CsA4Cs1JudI-"
      },
      "source": [
        ""
      ],
      "execution_count": null,
      "outputs": []
    }
  ]
}